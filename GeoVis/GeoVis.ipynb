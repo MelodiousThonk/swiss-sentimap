{
 "cells": [
  {
   "cell_type": "code",
   "execution_count": 1,
   "metadata": {
    "collapsed": true
   },
   "outputs": [],
   "source": [
    "import pandas as pd\n",
    "import folium\n",
    "import math"
   ]
  },
  {
   "cell_type": "code",
   "execution_count": 2,
   "metadata": {
    "collapsed": true
   },
   "outputs": [],
   "source": [
    "input_file_name = 'results_insat_summer'"
   ]
  },
  {
   "cell_type": "code",
   "execution_count": 3,
   "metadata": {
    "collapsed": false
   },
   "outputs": [
    {
     "data": {
      "text/html": [
       "<div>\n",
       "<table border=\"1\" class=\"dataframe\">\n",
       "  <thead>\n",
       "    <tr style=\"text-align: right;\">\n",
       "      <th></th>\n",
       "      <th>Unnamed: 0</th>\n",
       "      <th>Unnamed: 1</th>\n",
       "      <th>Unnamed: 2</th>\n",
       "      <th>Unnamed: 3</th>\n",
       "      <th>Unnamed: 4</th>\n",
       "      <th>Unnamed: 5</th>\n",
       "    </tr>\n",
       "  </thead>\n",
       "  <tbody>\n",
       "    <tr>\n",
       "      <th>605</th>\n",
       "      <td>0</td>\n",
       "      <td>45.455463</td>\n",
       "      <td>10.713035</td>\n",
       "      <td>2</td>\n",
       "      <td>0.000000</td>\n",
       "      <td>Gardaland</td>\n",
       "    </tr>\n",
       "    <tr>\n",
       "      <th>1024</th>\n",
       "      <td>0</td>\n",
       "      <td>46.236560</td>\n",
       "      <td>6.123440</td>\n",
       "      <td>3</td>\n",
       "      <td>0.000000</td>\n",
       "      <td>Centre Porsche Genève</td>\n",
       "    </tr>\n",
       "    <tr>\n",
       "      <th>14364</th>\n",
       "      <td>0</td>\n",
       "      <td>20.733485</td>\n",
       "      <td>-103.380736</td>\n",
       "      <td>8</td>\n",
       "      <td>0.006153</td>\n",
       "      <td>Auditorio Telmex</td>\n",
       "    </tr>\n",
       "    <tr>\n",
       "      <th>10401</th>\n",
       "      <td>0</td>\n",
       "      <td>47.372056</td>\n",
       "      <td>8.539769</td>\n",
       "      <td>3</td>\n",
       "      <td>0.000000</td>\n",
       "      <td>Widder Bar Züri</td>\n",
       "    </tr>\n",
       "    <tr>\n",
       "      <th>6283</th>\n",
       "      <td>0</td>\n",
       "      <td>46.200960</td>\n",
       "      <td>6.146900</td>\n",
       "      <td>11</td>\n",
       "      <td>0.079477</td>\n",
       "      <td>Hôtel de Ville de Genève</td>\n",
       "    </tr>\n",
       "  </tbody>\n",
       "</table>\n",
       "</div>"
      ],
      "text/plain": [
       "       Unnamed: 0  Unnamed: 1  Unnamed: 2  Unnamed: 3  Unnamed: 4  \\\n",
       "605             0   45.455463   10.713035           2    0.000000   \n",
       "1024            0   46.236560    6.123440           3    0.000000   \n",
       "14364           0   20.733485 -103.380736           8    0.006153   \n",
       "10401           0   47.372056    8.539769           3    0.000000   \n",
       "6283            0   46.200960    6.146900          11    0.079477   \n",
       "\n",
       "                     Unnamed: 5  \n",
       "605                   Gardaland  \n",
       "1024      Centre Porsche Genève  \n",
       "14364          Auditorio Telmex  \n",
       "10401           Widder Bar Züri  \n",
       "6283   Hôtel de Ville de Genève  "
      ]
     },
     "execution_count": 3,
     "metadata": {},
     "output_type": "execute_result"
    }
   ],
   "source": [
    "df = pd.read_csv(input_file_name + '.csv')\n",
    "df.sample(5)"
   ]
  },
  {
   "cell_type": "code",
   "execution_count": null,
   "metadata": {
    "collapsed": false,
    "scrolled": true
   },
   "outputs": [],
   "source": [
    "# Map of Switzerland\n",
    "map = folium.Map(location=[46.8, 8.2], zoom_start=8, tiles='Stamen Toner')\n",
    "\n",
    "# Add outline\n",
    "state_geo = r'./ch-cantons.topojson.json'\n",
    "map.choropleth(geo_path=state_geo, topojson='objects.cantons',\n",
    "             fill_color='#000', fill_opacity=0.05, line_opacity=.8)\n",
    "\n",
    "for row in df.values:\n",
    "    # Add circle\n",
    "    if row[4] < .7:\n",
    "        row[4] += .3\n",
    "    color_part = row[4]\n",
    "    opacity = row[4]\n",
    "    if color_part < .5:\n",
    "        opacity = 1 - opacity\n",
    "    red = math.floor(255 * (1 - color_part))\n",
    "    others = str(255 - red)\n",
    "    red = str(red)\n",
    "    map.circle_marker(\n",
    "                    location=[row[1], row[2]], radius=10000 * math.log(row[3]),\n",
    "                    popup=\"%s\\nCount %.0f, average happyness %.2f%%\" % (row[5], row[3], row[4] * 100),\n",
    "                    line_color=None,\n",
    "                    fill_color=\"rgb(\" + red + \", \" + others + \", \" + others + \")\",\n",
    "                    fill_opacity=opacity*.7)\n",
    "\n",
    "map.save(input_file_name + '.html')\n",
    "map"
   ]
  },
  {
   "cell_type": "code",
   "execution_count": null,
   "metadata": {
    "collapsed": true
   },
   "outputs": [],
   "source": []
  }
 ],
 "metadata": {
  "anaconda-cloud": {},
  "kernelspec": {
   "display_name": "Python [Root]",
   "language": "python",
   "name": "Python [Root]"
  },
  "language_info": {
   "codemirror_mode": {
    "name": "ipython",
    "version": 3
   },
   "file_extension": ".py",
   "mimetype": "text/x-python",
   "name": "python",
   "nbconvert_exporter": "python",
   "pygments_lexer": "ipython3",
   "version": "3.5.2"
  }
 },
 "nbformat": 4,
 "nbformat_minor": 0
}
